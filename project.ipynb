{
 "cells": [
  {
   "cell_type": "markdown",
   "metadata": {},
   "source": [
    "# <a id='toc1_'></a>[Emerging Technologies Project](#toc0_)\n",
    "\n",
    "**By Ethan Conneely (G00393941)**"
   ]
  },
  {
   "cell_type": "markdown",
   "metadata": {},
   "source": [
    "**Table of contents**<a id='toc0_'></a>    \n",
    "- [Emerging Technologies Project](#toc1_)    \n",
    "  - [Introduction](#toc1_1_)    \n",
    "    - [Quantum Computing](#toc1_1_1_)    \n",
    "    - [Deutsch's algorithm](#toc1_1_2_)    \n",
    "  - [Library Imports](#toc1_2_)    \n",
    "  - [Function Input](#toc1_3_)    \n",
    "  - [Deutsch Algorithm circuit creation](#toc1_4_)    \n",
    "  - [References:](#toc1_5_)    \n",
    "\n",
    "<!-- vscode-jupyter-toc-config\n",
    "\tnumbering=false\n",
    "\tanchor=false\n",
    "\tflat=false\n",
    "\tminLevel=1\n",
    "\tmaxLevel=6\n",
    "\t/vscode-jupyter-toc-config -->\n",
    "<!-- THIS CELL WILL BE REPLACED ON TOC UPDATE. DO NOT WRITE YOUR TEXT IN THIS CELL -->"
   ]
  },
  {
   "cell_type": "markdown",
   "metadata": {},
   "source": [
    "## <a id='toc1_1_'></a>[Introduction](#toc0_)"
   ]
  },
  {
   "cell_type": "markdown",
   "metadata": {},
   "source": [
    "### <a id='toc1_1_1_'></a>[Quantum Computing](#toc0_)"
   ]
  },
  {
   "cell_type": "markdown",
   "metadata": {},
   "source": [
    "Quantum computing is a new way of performing computation.  \n",
    "It differs from classical computation by utilizing qubits instead of normal bits  \n",
    "to perform a new type of computation that classical computation would  \n",
    "take much longer to compute.\n"
   ]
  },
  {
   "cell_type": "markdown",
   "metadata": {},
   "source": [
    "### <a id='toc1_1_2_'></a>[Deutsch's algorithm](#toc0_)\n"
   ]
  },
  {
   "cell_type": "markdown",
   "metadata": {},
   "source": [
    "Deutsch's algorithm is a quantum algorithm that determines whether a given Boolean function is constant or balanced.\n",
    "\n",
    "- A constant function is one that always returns the same value, regardless of the input.\n",
    "- A balanced function is one that returns 0 for half of the inputs and 1 for the other half.\n",
    "\n",
    "It can be represented using the following equation:\n",
    "\n",
    "Deutsch's algorithm takes in 1 bit that are 0 or 1 and outputs a 1 bit also 0 or 1\n",
    "\n",
    "$\\Sigma = \\{0,1\\}$\n",
    "\n",
    "$f : \\Sigma\\rightarrow \\Sigma$\n",
    "\n",
    "The algorithm outputs 0 for constant and 1 for balanced\n",
    "\n",
    "It is effective doing the xor operation from classical computing.\n"
   ]
  },
  {
   "cell_type": "markdown",
   "metadata": {},
   "source": [
    "## <a id='toc1_2_'></a>[Library Imports](#toc0_)"
   ]
  },
  {
   "cell_type": "markdown",
   "metadata": {},
   "source": [
    "For quantum simulation in python Qiskit can be used.  \n",
    "It is a library that we can use to run quantum simulations and make circuits.\n",
    "\n",
    "Matplotlib will be used for visualising the circuit diagrams generated from qiskit.\n"
   ]
  },
  {
   "cell_type": "code",
   "execution_count": 92,
   "metadata": {},
   "outputs": [],
   "source": [
    "from qiskit import QuantumCircuit, Aer\n",
    "import matplotlib.pyplot as plt\n"
   ]
  },
  {
   "cell_type": "markdown",
   "metadata": {},
   "source": [
    "## <a id='toc1_3_'></a>[Function Input](#toc0_)\n"
   ]
  },
  {
   "cell_type": "markdown",
   "metadata": {},
   "source": [
    "Below are all the possible input function in a table [[1]](#1)\n",
    "\n",
    "| function $f(x)$ | $x=0$ | $x=1$ | $f(0) ⨁ f(1)$ |\n",
    "| --------------- | ----- | ----- | ------------- |\n",
    "| $f_0$           | 0     | 0     | 0             |\n",
    "| $f_1$           | 0     | 1     | 1             |\n",
    "| $f_2$           | 1     | 0     | 1             |\n",
    "| $f_3$           | 1     | 1     | 0             |\n"
   ]
  },
  {
   "cell_type": "markdown",
   "metadata": {},
   "source": [
    "This is the first circuit it does nothing and is of type constant.\n"
   ]
  },
  {
   "cell_type": "code",
   "execution_count": 93,
   "metadata": {},
   "outputs": [
    {
     "data": {
      "image/png": "[encoded data removed]",
      "text/plain": [
       "<Figure size 161.878x200.667 with 1 Axes>"
      ]
     },
     "execution_count": 93,
     "metadata": {},
     "output_type": "execute_result"
    }
   ],
   "source": [
    "constantCircuitA = QuantumCircuit(2)\n",
    "constantCircuitA.draw(output='mpl')\n"
   ]
  },
  {
   "cell_type": "code",
   "execution_count": 94,
   "metadata": {},
   "outputs": [
    {
     "data": {
      "image/png": "[encoded data removed]",
      "text/plain": [
       "<Figure size 203.683x200.667 with 1 Axes>"
      ]
     },
     "execution_count": 94,
     "metadata": {},
     "output_type": "execute_result"
    }
   ],
   "source": [
    "constantCircuitB = QuantumCircuit(2)\n",
    "constantCircuitB.x(1)\n",
    "constantCircuitB.draw(output='mpl')\n"
   ]
  },
  {
   "cell_type": "code",
   "execution_count": 95,
   "metadata": {},
   "outputs": [
    {
     "data": {
      "image/png": "[encoded data removed]",
      "text/plain": [
       "<Figure size 203.683x200.667 with 1 Axes>"
      ]
     },
     "execution_count": 95,
     "metadata": {},
     "output_type": "execute_result"
    }
   ],
   "source": [
    "balancedCircuitA = QuantumCircuit(2)\n",
    "balancedCircuitA.cx(0, 1)\n",
    "balancedCircuitA.draw(output='mpl')\n"
   ]
  },
  {
   "cell_type": "code",
   "execution_count": 96,
   "metadata": {},
   "outputs": [
    {
     "data": {
      "image/png": "[encoded data removed]",
      "text/plain": [
       "<Figure size 287.294x200.667 with 1 Axes>"
      ]
     },
     "execution_count": 96,
     "metadata": {},
     "output_type": "execute_result"
    }
   ],
   "source": [
    "balancedCircuitB = QuantumCircuit(2)\n",
    "balancedCircuitB.cx(0, 1)\n",
    "balancedCircuitB.x(1)\n",
    "balancedCircuitB.draw(output='mpl')\n"
   ]
  },
  {
   "cell_type": "markdown",
   "metadata": {},
   "source": [
    "## <a id='toc1_4_'></a>[Deutsch Algorithm circuit creation](#toc0_)\n"
   ]
  },
  {
   "cell_type": "markdown",
   "metadata": {},
   "source": [
    "The algorithm is made up of 2 qubits and 1 classical bit.  \n",
    "It creates the circuit and combines in the function to be tested.\n",
    "\n",
    "The basic layout for the diagram was gotten from this diagram i added in the function composition. [[2]](#2)\n"
   ]
  },
  {
   "cell_type": "code",
   "execution_count": 97,
   "metadata": {},
   "outputs": [],
   "source": [
    "def deutsch_algorithm_circuit(function: QuantumCircuit) -> QuantumCircuit:\n",
    "    \"\"\"\n",
    "    Implements Deutsch's algorithm to determine whether a function f is constant or balanced.\n",
    "\n",
    "    Arguments:\n",
    "        function (QuantumCircuit): The function to evaluate.\n",
    "\n",
    "    Returns:\n",
    "        QuantumCircuit: The Deutsch algorithm circuit.\n",
    "    \"\"\"\n",
    "\n",
    "    qc = QuantumCircuit(2, 1)\n",
    "\n",
    "    # flipt the second qubit\n",
    "    qc.x(1)\n",
    "\n",
    "    # Apply Hadamard gates to both qubits\n",
    "    qc.h(range(2))\n",
    "\n",
    "    qc.barrier()  # for visual separation\n",
    "\n",
    "    # Combine the functions into a single circuit\n",
    "    qc.compose(function, range(2), inplace=True)\n",
    "\n",
    "    qc.barrier()  # for visual separation\n",
    "\n",
    "    # Apply Hadamard gates to qubit 0\n",
    "    qc.h(0)\n",
    "\n",
    "    qc.barrier()  # for visual separation\n",
    "\n",
    "    # # Measure the first qubit\n",
    "    qc.measure(0, 0)\n",
    "\n",
    "    return qc\n"
   ]
  },
  {
   "cell_type": "markdown",
   "metadata": {},
   "source": [
    "Run the simulation with Aer's qasm_simulator\n"
   ]
  },
  {
   "cell_type": "code",
   "execution_count": 98,
   "metadata": {},
   "outputs": [],
   "source": [
    "def simulate_deutsch_algorithm(deutsch_circuit: QuantumCircuit) -> str:\n",
    "    \"\"\"\n",
    "    Aer simulation of Deutsch's algorithm.\n",
    "\n",
    "    Arguments:\n",
    "        deutsch_circuit (QuantumCircuit): The Deutsch algorithm circuit.\n",
    "\n",
    "    Returns:\n",
    "        str: The function is either \"constant\" or \"balanced\".\n",
    "    \"\"\"\n",
    "\n",
    "    # Simulate the circuit\n",
    "    simulator = Aer.get_backend('qasm_simulator')\n",
    "\n",
    "    result = simulator.run(deutsch_circuit).result().get_counts()\n",
    "\n",
    "    # Determine whether the function is constant or balanced\n",
    "    # if there are more 0s than 1s, the function is constant\n",
    "    if int(result.get(\"0\", 0)) > int(result.get(\"1\", 0)):\n",
    "        return \"constant\"  # Function is constant\n",
    "    else:\n",
    "        return \"balanced\"  # Function is balanced\n"
   ]
  },
  {
   "cell_type": "code",
   "execution_count": 99,
   "metadata": {},
   "outputs": [],
   "source": [
    "input_functions = [\n",
    "    constantCircuitA, constantCircuitB, balancedCircuitA, balancedCircuitB\n",
    "]\n"
   ]
  },
  {
   "cell_type": "code",
   "execution_count": 100,
   "metadata": {},
   "outputs": [],
   "source": [
    "circuits = [deutsch_algorithm_circuit(f) for f in input_functions]\n"
   ]
  },
  {
   "cell_type": "markdown",
   "metadata": {},
   "source": [
    "Below is the 4 complete circuits for each function [[1]](#1)"
   ]
  },
  {
   "cell_type": "markdown",
   "metadata": {},
   "source": [
    "Below is all the diagrams for the 4 circuits and the results of the simulation.\n"
   ]
  },
  {
   "cell_type": "code",
   "execution_count": 101,
   "metadata": {},
   "outputs": [
    {
     "data": {
      "image/png": "[encoded data removed]",
      "text/plain": [
       "<Figure size 705.35x284.278 with 1 Axes>"
      ]
     },
     "metadata": {},
     "output_type": "display_data"
    },
    {
     "data": {
      "image/png": "[encoded data removed]",
      "text/plain": [
       "<Figure size 788.961x284.278 with 1 Axes>"
      ]
     },
     "metadata": {},
     "output_type": "display_data"
    },
    {
     "data": {
      "image/png": "[encoded data removed]",
      "text/plain": [
       "<Figure size 788.961x284.278 with 1 Axes>"
      ]
     },
     "metadata": {},
     "output_type": "display_data"
    },
    {
     "data": {
      "image/png": "[encoded data removed]",
      "text/plain": [
       "<Figure size 872.572x284.278 with 1 Axes>"
      ]
     },
     "metadata": {},
     "output_type": "display_data"
    }
   ],
   "source": [
    "for circuit in circuits:\n",
    "    # Create a figure\n",
    "    fig = plt.figure(circuit.draw(output='mpl'))\n",
    "    # Determine whether the circuit is constant or balanced\n",
    "    state = simulate_deutsch_algorithm(circuit)\n",
    "    # Add the title to the figure\n",
    "    fig.suptitle(state)\n",
    "    # Show the figure\n",
    "    plt.show()\n"
   ]
  },
  {
   "cell_type": "markdown",
   "metadata": {},
   "source": [
    "## <a id='toc1_5_'></a>[References:](#toc0_)\n",
    "\n",
    "- <a id=\"1\">[1]:</a> Input table reference  https://anonymousket.medium.com/quantum-algo-deutsch-algorithm-ccc119c69c08#b0aa\n",
    "- <a id=\"2\">[2]:</a> Circuit diagram reference  https://i.ytimg.com/vi/7MdEHsRZxvo/maxresdefault.jpg\n",
    "- <a id=\"3\">[3]:</a> https://www.youtube.com/watch?v=CytwIKt1P_0\n",
    "- <a id=\"4\">[4]:</a> https://anonymousket.medium.com/quantum-algo-deutsch-algorithm-ccc119c69c08\n",
    "- <a id=\"5\">[5]:</a> https://qiskit.org/documentation/tutorials/circuits/01_circuit_basics.html\n"
   ]
  }
 ],
 "metadata": {
  "kernelspec": {
   "display_name": "Python 3",
   "language": "python",
   "name": "python3"
  },
  "language_info": {
   "codemirror_mode": {
    "name": "ipython",
    "version": 3
   },
   "file_extension": ".py",
   "mimetype": "text/x-python",
   "name": "python",
   "nbconvert_exporter": "python",
   "pygments_lexer": "ipython3",
   "version": "3.11.6"
  },
  "orig_nbformat": 4
 },
 "nbformat": 4,
 "nbformat_minor": 2
}
