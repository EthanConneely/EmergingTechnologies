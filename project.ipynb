{
 "cells": [
  {
   "cell_type": "markdown",
   "metadata": {},
   "source": [
    "# Emerging Technologies Project\n"
   ]
  },
  {
   "cell_type": "markdown",
   "metadata": {},
   "source": [
    "## Introduction\n",
    "\n",
    "Quantum computing is a new way of performing computation.  \n",
    "It differs from classical computation by utilizing Q-bits instead of normal bits\n",
    "to perform a new type of computation that classical computation would  \n",
    "take much longer to compute.\n",
    "\n",
    "### Deutsch's algorithm\n",
    "\n",
    "Deutsch's algorithm is a quantum algorithm that determines whether a given Boolean function is constant or balanced.\n",
    "\n",
    "- A constant function is one that always returns the same value, regardless of the input.\n",
    "- A balanced function is one that returns 0 for half of the inputs and 1 for the other half.\n",
    "\n",
    "It can be represented using the following equation:\n",
    "\n",
    "Deutsch's algorithm takes in 1 bit that are 0 or 1 and outputs a 1 bits also 0 or 1\n",
    "\n",
    "$\\Sigma = \\{0,1\\}$\n",
    "\n",
    "$f : \\Sigma\\rightarrow \\Sigma$\n",
    "\n",
    "The algorithm outputs 0 for constant and 1 for balanced\n",
    "\n",
    "Below are all the possible input function in a table\n",
    "\n",
    "| function $f(x)$ | $x=0$ | $x=1$ | $f(0) ⨁ f(1)$ |\n",
    "| --------------- | ----- | ----- | ------------- |\n",
    "| $f_0$           | 0     | 0     | 0             |\n",
    "| $f_1$           | 0     | 1     | 1             |\n",
    "| $f_2$           | 1     | 0     | 1             |\n",
    "| $f_3$           | 1     | 1     | 0             |\n",
    "\n",
    "It is effective doing the xor opertation from classical computing.\n"
   ]
  },
  {
   "cell_type": "markdown",
   "metadata": {},
   "source": [
    "For quantum simulation in python I can use Qiskit.  \n",
    "It is a library that we can use to run quantum simulations and make circuits.\n",
    "\n",
    "Matplotlib will be used for visualising the circuit diagrams generated from qiskit.\n"
   ]
  },
  {
   "cell_type": "code",
   "execution_count": 49,
   "metadata": {},
   "outputs": [],
   "source": [
    "from qiskit import QuantumCircuit, Aer, execute\n",
    "import matplotlib.pyplot as plt\n"
   ]
  },
  {
   "cell_type": "markdown",
   "metadata": {},
   "source": []
  },
  {
   "cell_type": "code",
   "execution_count": 50,
   "metadata": {},
   "outputs": [],
   "source": [
    "def deutsch_algorithm_circuit(function: QuantumCircuit) -> QuantumCircuit:\n",
    "    \"\"\"\n",
    "    Implements Deutsch's algorithm to determine whether a function f is constant or balanced.\n",
    "\n",
    "    Arguments:\n",
    "        function (QuantumCircuit): The function to evaluate.\n",
    "\n",
    "    Returns:\n",
    "        QuantumCircuit: The Deutsch algorithm circuit.\n",
    "    \"\"\"\n",
    "\n",
    "    qc = QuantumCircuit(2, 1)\n",
    "\n",
    "    qc.x(1)\n",
    "\n",
    "    qc.barrier()\n",
    "\n",
    "    # Apply Hadamard gates to both qubits\n",
    "    qc.h(range(2))\n",
    "\n",
    "    qc.barrier()\n",
    "\n",
    "    qc.cnot(0, 1)\n",
    "\n",
    "    # Apply Hadamard gates to qubit 0\n",
    "    qc.h(0)\n",
    "\n",
    "    # Measure the first qubit\n",
    "    qc.measure(0, 0)\n",
    "\n",
    "    return qc\n"
   ]
  },
  {
   "cell_type": "markdown",
   "metadata": {},
   "source": []
  },
  {
   "cell_type": "code",
   "execution_count": 51,
   "metadata": {},
   "outputs": [],
   "source": [
    "def simulate_deutsch_algorithm(deutschCircuit: QuantumCircuit) -> str:\n",
    "    \"\"\"\n",
    "    Aer simulation of Deutsch's algorithm.\n",
    "\n",
    "    Arguments:\n",
    "        deutschCircuit (QuantumCircuit): The Deutsch algorithm circuit.\n",
    "\n",
    "    Returns:\n",
    "        str: The function is either \"constant\" or \"balanced\".\n",
    "    \"\"\"\n",
    "\n",
    "    # Simulate the circuit\n",
    "    simulator = Aer.get_backend('qasm_simulator')\n",
    "    job = execute(deutschCircuit, simulator, shots=1)\n",
    "    result = job.result().get_counts()\n",
    "\n",
    "    print(result)\n",
    "\n",
    "    # Determine whether the function is constant or balanced\n",
    "    if '0' in result and '1' in result:\n",
    "        return \"balanced\"  # Function is balanced\n",
    "    else:\n",
    "        return \"constant\"  # Function is constant\n"
   ]
  },
  {
   "cell_type": "markdown",
   "metadata": {},
   "source": []
  },
  {
   "cell_type": "code",
   "execution_count": 52,
   "metadata": {},
   "outputs": [
    {
     "data": {
      "text/plain": [
       "<qiskit.circuit.instructionset.InstructionSet at 0x21b43f7baf0>"
      ]
     },
     "execution_count": 52,
     "metadata": {},
     "output_type": "execute_result"
    }
   ],
   "source": [
    "# Define the functions\n",
    "constantFunction = QuantumCircuit(2)\n",
    "constantFunction.cx(0, 1)\n"
   ]
  },
  {
   "cell_type": "markdown",
   "metadata": {},
   "source": []
  },
  {
   "cell_type": "code",
   "execution_count": 53,
   "metadata": {},
   "outputs": [
    {
     "name": "stderr",
     "output_type": "stream",
     "text": [
      "C:\\Users\\Econn\\AppData\\Local\\Temp\\ipykernel_12300\\3184812808.py:23: DeprecationWarning: The method ``qiskit.circuit.quantumcircuit.QuantumCircuit.cnot()`` is deprecated as of qiskit 0.45.0. It will be removed no earlier than 3 months after the release date. Use QuantumCircuit.cx as direct replacement.\n",
      "  qc.cnot(0, 1)\n"
     ]
    }
   ],
   "source": [
    "circuit = deutsch_algorithm_circuit(constantFunction)\n"
   ]
  },
  {
   "cell_type": "markdown",
   "metadata": {},
   "source": []
  },
  {
   "cell_type": "code",
   "execution_count": 54,
   "metadata": {},
   "outputs": [
    {
     "data": {
      "image/png": "[encoded data removed]",
      "text/plain": [
       "<Figure size 705.35x284.278 with 1 Axes>"
      ]
     },
     "metadata": {},
     "output_type": "display_data"
    }
   ],
   "source": [
    "plt.figure(circuit.draw(output='mpl'))\n",
    "plt.show()\n"
   ]
  },
  {
   "cell_type": "markdown",
   "metadata": {},
   "source": []
  },
  {
   "cell_type": "code",
   "execution_count": 55,
   "metadata": {},
   "outputs": [
    {
     "name": "stdout",
     "output_type": "stream",
     "text": [
      "{'1': 1}\n",
      "constant\n"
     ]
    }
   ],
   "source": [
    "# Determine whether the circuit is constant or balanced\n",
    "print(simulate_deutsch_algorithm(circuit))\n"
   ]
  },
  {
   "cell_type": "markdown",
   "metadata": {},
   "source": []
  },
  {
   "cell_type": "markdown",
   "metadata": {},
   "source": [
    "## References:\n",
    "\n",
    "- https://www.youtube.com/watch?v=CytwIKt1P_0\n"
   ]
  }
 ],
 "metadata": {
  "kernelspec": {
   "display_name": "Python 3",
   "language": "python",
   "name": "python3"
  },
  "language_info": {
   "codemirror_mode": {
    "name": "ipython",
    "version": 3
   },
   "file_extension": ".py",
   "mimetype": "text/x-python",
   "name": "python",
   "nbconvert_exporter": "python",
   "pygments_lexer": "ipython3",
   "version": "3.11.6"
  },
  "orig_nbformat": 4
 },
 "nbformat": 4,
 "nbformat_minor": 2
}
