{
 "cells": [
  {
   "cell_type": "markdown",
   "metadata": {},
   "source": [
    "# Emerging Technologies Project"
   ]
  },
  {
   "cell_type": "markdown",
   "metadata": {},
   "source": [
    "## Introduction\n",
    "\n",
    "Quantum computing is a new way of performing computation.  \n",
    "It differs from classical computation by utilizing Q-bits instead of normal bits\n",
    "to perform a new type of computation that classical computation would  \n",
    "take much longer to compute.\n",
    "\n",
    "\n",
    "### Deutsch's algorithm\n",
    "\n",
    "Deutsch's algorithm is a quantum algorithm that determines whether a given Boolean function is constant or balanced.  \n",
    "- A constant function is one that always returns the same value, regardless of the input.  \n",
    "- A balanced function is one that returns 0 for half of the inputs and 1 for the other half.\n",
    "\n",
    "\n"
   ]
  },
  {
   "cell_type": "markdown",
   "metadata": {},
   "source": [
    "## References:"
   ]
  },
  {
   "cell_type": "markdown",
   "metadata": {},
   "source": [
    "\n",
    "\n"
   ]
  }
 ],
 "metadata": {
  "kernelspec": {
   "display_name": "Python 3",
   "language": "python",
   "name": "python3"
  },
  "language_info": {
   "codemirror_mode": {
    "name": "ipython",
    "version": 3
   },
   "file_extension": ".py",
   "mimetype": "text/x-python",
   "name": "python",
   "nbconvert_exporter": "python",
   "pygments_lexer": "ipython3",
   "version": "3.11.6"
  },
  "orig_nbformat": 4
 },
 "nbformat": 4,
 "nbformat_minor": 2
}
