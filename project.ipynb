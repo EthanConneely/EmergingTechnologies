{
 "cells": [
  {
   "cell_type": "markdown",
   "metadata": {},
   "source": [
    "# Emerging Technologies Project"
   ]
  },
  {
   "cell_type": "markdown",
   "metadata": {},
   "source": [
    "## Introduction\n",
    "\n",
    "Quantum computing is a new way of performing computation.  \n",
    "It differs from classical computation by utilizing Q-bits instead of normal  \n",
    "to perform a new type of computation that classical computation would  \n",
    "take much longer to compute.\n",
    "\n",
    "For quantum simulation in python we can use Qiskit.\n",
    "It is a library that we can use to make quantum simulations and circuits.\n",
    "\n",
    "![alt](http://www.quickmeme.com/img/19/1982d44055aee887a2e0a5a5d04f77658425d69c49ffa86b5b758f6df5fd0043.jpg)"
   ]
  }
 ],
 "metadata": {
  "kernelspec": {
   "display_name": "Python 3",
   "language": "python",
   "name": "python3"
  },
  "language_info": {
   "codemirror_mode": {
    "name": "ipython",
    "version": 3
   },
   "file_extension": ".py",
   "mimetype": "text/x-python",
   "name": "python",
   "nbconvert_exporter": "python",
   "pygments_lexer": "ipython3",
   "version": "3.11.5"
  },
  "orig_nbformat": 4
 },
 "nbformat": 4,
 "nbformat_minor": 2
}
