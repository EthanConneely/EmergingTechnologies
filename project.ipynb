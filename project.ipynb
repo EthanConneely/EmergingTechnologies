{
 "cells": [
  {
   "cell_type": "markdown",
   "metadata": {},
   "source": [
    "# Emerging Technologies Project\n"
   ]
  },
  {
   "cell_type": "markdown",
   "metadata": {},
   "source": [
    "## Introduction\n",
    "\n",
    "Quantum computing is a new way of performing computation.  \n",
    "It differs from classical computation by utilizing Q-bits instead of normal bits\n",
    "to perform a new type of computation that classical computation would  \n",
    "take much longer to compute.\n"
   ]
  },
  {
   "cell_type": "markdown",
   "metadata": {},
   "source": [
    "### Deutsch's algorithm\n",
    "\n",
    "Deutsch's algorithm is a quantum algorithm that determines whether a given Boolean function is constant or balanced.\n",
    "\n",
    "- A constant function is one that always returns the same value, regardless of the input.\n",
    "- A balanced function is one that returns 0 for half of the inputs and 1 for the other half.\n",
    "\n",
    "It can be represented using the following equation:\n",
    "\n",
    "Deutsch's algorithm takes in 1 bit that are 0 or 1 and outputs a 1 bits also 0 or 1\n",
    "\n",
    "$\\Sigma = \\{0,1\\}$\n",
    "\n",
    "$f : \\Sigma\\rightarrow \\Sigma$\n",
    "\n",
    "The algorithm outputs 0 for constant and 1 for balanced\n",
    "\n",
    "Below are all the possible input function in a table\n",
    "\n",
    "| function $f(x)$ | $x=0$ | $x=1$ | $f(0) ⨁ f(1)$ |\n",
    "| --------------- | ----- | ----- | ------------- |\n",
    "| $f_0$           | 0     | 0     | 0             |\n",
    "| $f_1$           | 0     | 1     | 1             |\n",
    "| $f_2$           | 1     | 0     | 1             |\n",
    "| $f_3$           | 1     | 1     | 0             |\n",
    "\n",
    "It is effective doing the xor operation from classical computing.\n"
   ]
  },
  {
   "cell_type": "markdown",
   "metadata": {},
   "source": [
    "For quantum simulation in python I can use Qiskit.  \n",
    "It is a library that we can use to run quantum simulations and make circuits.\n",
    "\n",
    "Matplotlib will be used for visualising the circuit diagrams generated from qiskit.\n"
   ]
  },
  {
   "cell_type": "code",
   "execution_count": 305,
   "metadata": {},
   "outputs": [],
   "source": [
    "from qiskit import QuantumCircuit, Aer, execute, transpile, assemble\n",
    "import matplotlib.pyplot as plt\n"
   ]
  },
  {
   "cell_type": "markdown",
   "metadata": {},
   "source": []
  },
  {
   "cell_type": "code",
   "execution_count": 306,
   "metadata": {},
   "outputs": [],
   "source": [
    "def deutsch_algorithm_circuit(function: QuantumCircuit) -> QuantumCircuit:\n",
    "    \"\"\"\n",
    "    Implements Deutsch's algorithm to determine whether a function f is constant or balanced.\n",
    "\n",
    "    Arguments:\n",
    "        function (QuantumCircuit): The function to evaluate.\n",
    "\n",
    "    Returns:\n",
    "        QuantumCircuit: The Deutsch algorithm circuit.\n",
    "    \"\"\"\n",
    "\n",
    "    qc = QuantumCircuit(2, 1)\n",
    "\n",
    "    qc.x(1)\n",
    "\n",
    "    # Apply Hadamard gates to both qubits\n",
    "    qc.h(range(2))\n",
    "\n",
    "    qc.barrier()\n",
    "\n",
    "    # Combine the functions into a single circuit\n",
    "    qc.compose(function, range(2), inplace=True)\n",
    "\n",
    "    qc.barrier()\n",
    "\n",
    "    # Apply Hadamard gates to qubit 0\n",
    "    qc.h(0)\n",
    "\n",
    "    qc.barrier()\n",
    "\n",
    "    # # Measure the first qubit\n",
    "    qc.measure(0, 0)\n",
    "\n",
    "    return qc\n"
   ]
  },
  {
   "cell_type": "markdown",
   "metadata": {},
   "source": []
  },
  {
   "cell_type": "code",
   "execution_count": 307,
   "metadata": {},
   "outputs": [],
   "source": [
    "def simulate_deutsch_algorithm(deutsch_circuit: QuantumCircuit) -> str:\n",
    "    \"\"\"\n",
    "    Aer simulation of Deutsch's algorithm.\n",
    "\n",
    "    Arguments:\n",
    "        deutsch_circuit (QuantumCircuit): The Deutsch algorithm circuit.\n",
    "\n",
    "    Returns:\n",
    "        str: The function is either \"constant\" or \"balanced\".\n",
    "    \"\"\"\n",
    "\n",
    "    # Simulate the circuit\n",
    "    simulator = Aer.get_backend('qasm_simulator')\n",
    "\n",
    "    result = simulator.run(deutsch_circuit).result().get_counts()\n",
    "\n",
    "    # Determine whether the function is constant or balanced\n",
    "    # if there are more 0s than 1s, the function is constant\n",
    "    if int(result[\"0\"])> int(result[\"1\"]):\n",
    "        return \"constant\"  # Function is constant\n",
    "    else:\n",
    "        return \"balanced\"  # Function is balanced\n"
   ]
  },
  {
   "cell_type": "markdown",
   "metadata": {},
   "source": [
    "This is the first circuit it does nothing and is of type constant.\n"
   ]
  },
  {
   "cell_type": "code",
   "execution_count": 308,
   "metadata": {},
   "outputs": [
    {
     "data": {
      "image/png": "[encoded data removed]",
      "text/plain": [
       "<Figure size 161.878x200.667 with 1 Axes>"
      ]
     },
     "execution_count": 308,
     "metadata": {},
     "output_type": "execute_result"
    }
   ],
   "source": [
    "# Define the functions\n",
    "constantCircuitA = QuantumCircuit(2)\n",
    "constantCircuitA.draw(output='mpl')\n"
   ]
  },
  {
   "cell_type": "code",
   "execution_count": 309,
   "metadata": {},
   "outputs": [
    {
     "data": {
      "image/png": "[encoded data removed]",
      "text/plain": [
       "<Figure size 203.683x200.667 with 1 Axes>"
      ]
     },
     "execution_count": 309,
     "metadata": {},
     "output_type": "execute_result"
    }
   ],
   "source": [
    "# Define the functions\n",
    "constantCircuitB = QuantumCircuit(2)\n",
    "constantCircuitB.x(1)\n",
    "constantCircuitB.draw(output='mpl')\n"
   ]
  },
  {
   "cell_type": "code",
   "execution_count": 310,
   "metadata": {},
   "outputs": [
    {
     "data": {
      "image/png": "[encoded data removed]",
      "text/plain": [
       "<Figure size 203.683x200.667 with 1 Axes>"
      ]
     },
     "execution_count": 310,
     "metadata": {},
     "output_type": "execute_result"
    }
   ],
   "source": [
    "# Define the functions\n",
    "balancedCircuitA = QuantumCircuit(2)\n",
    "balancedCircuitA.cnot(0, 1)\n",
    "balancedCircuitA.draw(output='mpl')\n"
   ]
  },
  {
   "cell_type": "code",
   "execution_count": 311,
   "metadata": {},
   "outputs": [
    {
     "data": {
      "image/png": "[encoded data removed]",
      "text/plain": [
       "<Figure size 287.294x200.667 with 1 Axes>"
      ]
     },
     "execution_count": 311,
     "metadata": {},
     "output_type": "execute_result"
    }
   ],
   "source": [
    "# Define the functions\n",
    "balancedCircuitB = QuantumCircuit(2)\n",
    "balancedCircuitB.cnot(0, 1)\n",
    "balancedCircuitB.x(1)\n",
    "balancedCircuitB.draw(output='mpl')\n"
   ]
  },
  {
   "cell_type": "code",
   "execution_count": 312,
   "metadata": {},
   "outputs": [],
   "source": [
    "input_functions = [\n",
    "    constantCircuitA, constantCircuitB, balancedCircuitA, balancedCircuitB\n",
    "]\n"
   ]
  },
  {
   "cell_type": "markdown",
   "metadata": {},
   "source": []
  },
  {
   "cell_type": "code",
   "execution_count": 313,
   "metadata": {},
   "outputs": [],
   "source": [
    "circuits = [deutsch_algorithm_circuit(f) for f in input_functions]\n"
   ]
  },
  {
   "cell_type": "markdown",
   "metadata": {},
   "source": []
  },
  {
   "cell_type": "code",
   "execution_count": 314,
   "metadata": {},
   "outputs": [
    {
     "ename": "KeyError",
     "evalue": "'1'",
     "output_type": "error",
     "traceback": [
      "\u001b[1;31m---------------------------------------------------------------------------\u001b[0m",
      "\u001b[1;31mKeyError\u001b[0m                                  Traceback (most recent call last)",
      "\u001b[1;32ma:\\EmergingTechnologies\\project.ipynb Cell 19\u001b[0m line \u001b[0;36m4\n\u001b[0;32m      <a href='vscode-notebook-cell:/a%3A/EmergingTechnologies/project.ipynb#X16sZmlsZQ%3D%3D?line=1'>2</a>\u001b[0m plt\u001b[39m.\u001b[39mfigure(circuit\u001b[39m.\u001b[39mdraw(output\u001b[39m=\u001b[39m\u001b[39m'\u001b[39m\u001b[39mmpl\u001b[39m\u001b[39m'\u001b[39m))\n\u001b[0;32m      <a href='vscode-notebook-cell:/a%3A/EmergingTechnologies/project.ipynb#X16sZmlsZQ%3D%3D?line=2'>3</a>\u001b[0m \u001b[39m# Determine whether the circuit is constant or balanced\u001b[39;00m\n\u001b[1;32m----> <a href='vscode-notebook-cell:/a%3A/EmergingTechnologies/project.ipynb#X16sZmlsZQ%3D%3D?line=3'>4</a>\u001b[0m \u001b[39mprint\u001b[39m(simulate_deutsch_algorithm(circuit))\n\u001b[0;32m      <a href='vscode-notebook-cell:/a%3A/EmergingTechnologies/project.ipynb#X16sZmlsZQ%3D%3D?line=4'>5</a>\u001b[0m plt\u001b[39m.\u001b[39mshow()\n",
      "\u001b[1;32ma:\\EmergingTechnologies\\project.ipynb Cell 19\u001b[0m line \u001b[0;36m1\n\u001b[0;32m     <a href='vscode-notebook-cell:/a%3A/EmergingTechnologies/project.ipynb#X16sZmlsZQ%3D%3D?line=14'>15</a>\u001b[0m result \u001b[39m=\u001b[39m simulator\u001b[39m.\u001b[39mrun(deutsch_circuit)\u001b[39m.\u001b[39mresult()\u001b[39m.\u001b[39mget_counts()\n\u001b[0;32m     <a href='vscode-notebook-cell:/a%3A/EmergingTechnologies/project.ipynb#X16sZmlsZQ%3D%3D?line=16'>17</a>\u001b[0m \u001b[39m# Determine whether the function is constant or balanced\u001b[39;00m\n\u001b[1;32m---> <a href='vscode-notebook-cell:/a%3A/EmergingTechnologies/project.ipynb#X16sZmlsZQ%3D%3D?line=17'>18</a>\u001b[0m \u001b[39mif\u001b[39;00m \u001b[39mint\u001b[39m(result[\u001b[39m\"\u001b[39m\u001b[39m0\u001b[39m\u001b[39m\"\u001b[39m])\u001b[39m>\u001b[39m \u001b[39mint\u001b[39m(result[\u001b[39m\"\u001b[39;49m\u001b[39m1\u001b[39;49m\u001b[39m\"\u001b[39;49m]):\n\u001b[0;32m     <a href='vscode-notebook-cell:/a%3A/EmergingTechnologies/project.ipynb#X16sZmlsZQ%3D%3D?line=18'>19</a>\u001b[0m     \u001b[39mreturn\u001b[39;00m \u001b[39m\"\u001b[39m\u001b[39mbalanced\u001b[39m\u001b[39m\"\u001b[39m  \u001b[39m# Function is balanced\u001b[39;00m\n\u001b[0;32m     <a href='vscode-notebook-cell:/a%3A/EmergingTechnologies/project.ipynb#X16sZmlsZQ%3D%3D?line=19'>20</a>\u001b[0m \u001b[39melse\u001b[39;00m:\n",
      "\u001b[1;31mKeyError\u001b[0m: '1'"
     ]
    },
    {
     "data": {
      "image/png": "[encoded data removed]",
      "text/plain": [
       "<Figure size 705.35x284.278 with 1 Axes>"
      ]
     },
     "metadata": {},
     "output_type": "display_data"
    }
   ],
   "source": [
    "for circuit in circuits:\n",
    "    plt.figure(circuit.draw(output='mpl'))\n",
    "    # Determine whether the circuit is constant or balanced\n",
    "    print(simulate_deutsch_algorithm(circuit))\n",
    "    plt.show()\n"
   ]
  },
  {
   "cell_type": "markdown",
   "metadata": {},
   "source": []
  },
  {
   "cell_type": "code",
   "execution_count": null,
   "metadata": {},
   "outputs": [],
   "source": []
  },
  {
   "cell_type": "markdown",
   "metadata": {},
   "source": []
  },
  {
   "cell_type": "markdown",
   "metadata": {},
   "source": [
    "## References:\n",
    "\n",
    "- https://www.youtube.com/watch?v=CytwIKt1P_0\n",
    "- https://anonymousket.medium.com/quantum-algo-deutsch-algorithm-ccc119c69c08\n",
    "- https://qiskit.org/documentation/tutorials/circuits/01_circuit_basics.html\n"
   ]
  }
 ],
 "metadata": {
  "kernelspec": {
   "display_name": "Python 3",
   "language": "python",
   "name": "python3"
  },
  "language_info": {
   "codemirror_mode": {
    "name": "ipython",
    "version": 3
   },
   "file_extension": ".py",
   "mimetype": "text/x-python",
   "name": "python",
   "nbconvert_exporter": "python",
   "pygments_lexer": "ipython3",
   "version": "3.11.6"
  },
  "orig_nbformat": 4
 },
 "nbformat": 4,
 "nbformat_minor": 2
}
