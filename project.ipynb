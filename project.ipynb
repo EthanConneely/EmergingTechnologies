{
 "cells": [
  {
   "cell_type": "markdown",
   "metadata": {},
   "source": [
    "# Emerging Technologies Project\n",
    "\n",
    "**By Ethan Conneely (G00393941)**\n"
   ]
  },
  {
   "cell_type": "markdown",
   "metadata": {},
   "source": [
    "**Table of contents**\n",
    "\n",
    "- Emerging Technologies Project\n",
    "  - Introduction\n",
    "    - Quantum Computing\n",
    "    - Deutsch's algorithm\n",
    "  - Library Imports\n",
    "  - Function Input\n",
    "  - Deutsch Algorithm circuit creation\n",
    "  - Real Hardware\n",
    "    - Jobs\n",
    "  - References\n",
    "\n",
    "<!-- vscode-jupyter-toc-config\n",
    "\tnumbering=false\n",
    "\tanchor=false\n",
    "\tflat=false\n",
    "\tminLevel=1\n",
    "\tmaxLevel=6\n",
    "\t/vscode-jupyter-toc-config -->\n",
    "<!-- THIS CELL WILL BE REPLACED ON TOC UPDATE. DO NOT WRITE YOUR TEXT IN THIS CELL -->\n"
   ]
  },
  {
   "cell_type": "markdown",
   "metadata": {},
   "source": [
    "## Introduction\n"
   ]
  },
  {
   "cell_type": "markdown",
   "metadata": {},
   "source": [
    "### Quantum Computing\n"
   ]
  },
  {
   "cell_type": "markdown",
   "metadata": {},
   "source": [
    "Quantum computing is a new way of performing computation.  \n",
    "It differs from classical computation by utilizing qubits instead of normal bits  \n",
    "to perform a new type of computation that classical computation would  \n",
    "take much longer to compute.\n",
    "\n",
    "The main advantage of quatum computing is that it can perform many computations  \n",
    "at the same time, whereas classical computing can only perform one computation.  \n",
    "The way this is achieved is by using the properties of quantum mechanics,  \n",
    "The ability to put a qubit in a superposition of states allows the qubit to  \n",
    "effectively act as a 1 and a 0 at the same time. This allows for many computations  \n",
    "to be performed at the same time.\n"
   ]
  },
  {
   "cell_type": "markdown",
   "metadata": {},
   "source": [
    "### Deutsch's algorithm\n"
   ]
  },
  {
   "cell_type": "markdown",
   "metadata": {},
   "source": [
    "Deutsch's algorithm is a quantum algorithm that determines whether a given Boolean function is constant or balanced.\n",
    "\n",
    "- A constant function is one that always returns the same value, regardless of the input.\n",
    "- A balanced function is one that returns 0 for half of the inputs and 1 for the other half.\n",
    "\n",
    "It can be represented using the following equation:\n",
    "\n",
    "Deutsch's algorithm takes in 1 bit that are 0 or 1 and outputs a 1 bit also 0 or 1\n",
    "\n",
    "$\\Sigma = \\{0,1\\}$\n",
    "\n",
    "$f : \\Sigma\\rightarrow \\Sigma$\n",
    "\n",
    "The algorithm outputs 0 for constant and 1 for balanced\n",
    "\n",
    "It is effective doing the xor operation from classical computing.\n"
   ]
  },
  {
   "cell_type": "markdown",
   "metadata": {},
   "source": [
    "## Library Imports\n"
   ]
  },
  {
   "cell_type": "markdown",
   "metadata": {},
   "source": [
    "For quantum simulation in python Qiskit can be used.  \n",
    "It is a library that we can use to run quantum simulations and make circuits.\n",
    "\n",
    "Matplotlib will be used for visualising the circuit diagrams generated from qiskit.\n"
   ]
  },
  {
   "cell_type": "code",
   "execution_count": 52,
   "metadata": {},
   "outputs": [],
   "source": [
    "from qiskit import QuantumCircuit, Aer\n",
    "from qiskit.result import Result\n",
    "import matplotlib.pyplot as plt\n"
   ]
  },
  {
   "cell_type": "markdown",
   "metadata": {},
   "source": [
    "## Function Input\n"
   ]
  },
  {
   "cell_type": "markdown",
   "metadata": {},
   "source": [
    "Below are all the possible input function in a table [[1]](#1)\n",
    "\n",
    "| function $f(x)$ | $x=0$ | $x=1$ | $f(0) ⨁ f(1)$ |\n",
    "| --------------- | ----- | ----- | ------------- |\n",
    "| $f_0$           | 0     | 0     | 0             |\n",
    "| $f_1$           | 0     | 1     | 1             |\n",
    "| $f_2$           | 1     | 0     | 1             |\n",
    "| $f_3$           | 1     | 1     | 0             |\n"
   ]
  },
  {
   "cell_type": "markdown",
   "metadata": {},
   "source": [
    "This is the first circuit it does nothing and is of type constant.\n"
   ]
  },
  {
   "cell_type": "markdown",
   "metadata": {},
   "source": [
    "Below is the 4 complete circuits for each function [[1]](#1)\n"
   ]
  },
  {
   "cell_type": "code",
   "execution_count": 53,
   "metadata": {},
   "outputs": [
    {
     "name": "stderr",
     "output_type": "stream",
     "text": [
      "c:\\Users\\Econn\\AppData\\Local\\Programs\\Python\\Python311\\Lib\\site-packages\\qiskit\\visualization\\circuit\\matplotlib.py:266: FutureWarning: The default matplotlib drawer scheme will be changed to \"iqp\" in a following release. To silence this warning, specify the current default explicitly as style=\"clifford\", or the new default as style=\"iqp\".\n",
      "  self._style, def_font_ratio = load_style(self._style)\n"
     ]
    },
    {
     "data": {
      "image/png": "[encoded data removed]",
      "text/plain": [
       "<Figure size 161.878x200.667 with 1 Axes>"
      ]
     },
     "execution_count": 53,
     "metadata": {},
     "output_type": "execute_result"
    }
   ],
   "source": [
    "constantCircuitA = QuantumCircuit(2)\n",
    "constantCircuitA.draw(output='mpl')\n"
   ]
  },
  {
   "cell_type": "code",
   "execution_count": 54,
   "metadata": {},
   "outputs": [
    {
     "data": {
      "image/png": "[encoded data removed]",
      "text/plain": [
       "<Figure size 203.683x200.667 with 1 Axes>"
      ]
     },
     "execution_count": 54,
     "metadata": {},
     "output_type": "execute_result"
    }
   ],
   "source": [
    "constantCircuitB = QuantumCircuit(2)\n",
    "constantCircuitB.x(1)\n",
    "constantCircuitB.draw(output='mpl')\n"
   ]
  },
  {
   "cell_type": "code",
   "execution_count": 55,
   "metadata": {},
   "outputs": [
    {
     "data": {
      "image/png": "[encoded data removed]",
      "text/plain": [
       "<Figure size 203.683x200.667 with 1 Axes>"
      ]
     },
     "execution_count": 55,
     "metadata": {},
     "output_type": "execute_result"
    }
   ],
   "source": [
    "balancedCircuitA = QuantumCircuit(2)\n",
    "balancedCircuitA.cx(0, 1)\n",
    "balancedCircuitA.draw(output='mpl')\n"
   ]
  },
  {
   "cell_type": "code",
   "execution_count": 56,
   "metadata": {},
   "outputs": [
    {
     "data": {
      "image/png": "[encoded data removed]",
      "text/plain": [
       "<Figure size 287.294x200.667 with 1 Axes>"
      ]
     },
     "execution_count": 56,
     "metadata": {},
     "output_type": "execute_result"
    }
   ],
   "source": [
    "balancedCircuitB = QuantumCircuit(2)\n",
    "balancedCircuitB.cx(0, 1)\n",
    "balancedCircuitB.x(1)\n",
    "balancedCircuitB.draw(output='mpl')\n"
   ]
  },
  {
   "cell_type": "markdown",
   "metadata": {},
   "source": [
    "## Deutsch Algorithm circuit creation\n"
   ]
  },
  {
   "cell_type": "markdown",
   "metadata": {},
   "source": [
    "The algorithm is made up of 2 qubits and 1 classical bit.  \n",
    "It creates the circuit and combines in the function to be tested.\n",
    "\n",
    "The basic layout for the diagram was gotten from this diagram i added in the function composition. [[2]](#2)\n"
   ]
  },
  {
   "cell_type": "code",
   "execution_count": 57,
   "metadata": {},
   "outputs": [],
   "source": [
    "def deutsch_algorithm_circuit(function: QuantumCircuit) -> QuantumCircuit:\n",
    "    \"\"\"\n",
    "    Implements Deutsch's algorithm to determine whether a function f is constant or balanced.\n",
    "\n",
    "    Arguments:\n",
    "        function (QuantumCircuit): The function to evaluate.\n",
    "\n",
    "    Returns:\n",
    "        QuantumCircuit: The Deutsch algorithm circuit.\n",
    "    \"\"\"\n",
    "\n",
    "    qc = QuantumCircuit(2, 1)\n",
    "\n",
    "    # flipt the second qubit\n",
    "    qc.x(1)\n",
    "\n",
    "    # Apply Hadamard gates to both qubits\n",
    "    qc.h(range(2))\n",
    "\n",
    "    qc.barrier()  # for visual separation\n",
    "\n",
    "    # Combine the functions into a single circuit\n",
    "    qc.compose(function, range(2), inplace=True)\n",
    "\n",
    "    qc.barrier()  # for visual separation\n",
    "\n",
    "    # Apply Hadamard gates to qubit 0\n",
    "    qc.h(0)\n",
    "\n",
    "    qc.barrier()  # for visual separation\n",
    "\n",
    "    # # Measure the first qubit\n",
    "    qc.measure(0, 0)\n",
    "\n",
    "    return qc\n"
   ]
  },
  {
   "cell_type": "markdown",
   "metadata": {},
   "source": [
    "Run the simulation with Aer's qasm simulator the results  \n",
    "are returned from measuring the qubits.\n",
    "\n",
    "The possible results:\n",
    "\n",
    "- 0 - constant\n",
    "- 1 - balanced\n",
    "\n",
    "With real quantum computers the results are not always accurate\n",
    "due to noise and other factors.\n",
    "The values can be\n"
   ]
  },
  {
   "cell_type": "code",
   "execution_count": 58,
   "metadata": {},
   "outputs": [],
   "source": [
    "def simulate_deutsch_algorithm(deutsch_circuit: QuantumCircuit) -> Result:\n",
    "    \"\"\"\n",
    "    Aer simulation of Deutsch's algorithm.\n",
    "\n",
    "    Arguments:\n",
    "        deutsch_circuit (QuantumCircuit): The Deutsch algorithm circuit.\n",
    "\n",
    "    Returns:\n",
    "        Result: The simulation result.\n",
    "    \"\"\"\n",
    "\n",
    "    # Simulate the circuit\n",
    "    simulator = Aer.get_backend('qasm_simulator')\n",
    "\n",
    "    return simulator.run(deutsch_circuit).result()\n"
   ]
  },
  {
   "cell_type": "code",
   "execution_count": 59,
   "metadata": {},
   "outputs": [],
   "source": [
    "input_functions = [\n",
    "    constantCircuitA, constantCircuitB, balancedCircuitA, balancedCircuitB\n",
    "]\n"
   ]
  },
  {
   "cell_type": "code",
   "execution_count": 74,
   "metadata": {},
   "outputs": [],
   "source": [
    "circuits = [deutsch_algorithm_circuit(f) for f in input_functions]\n"
   ]
  },
  {
   "cell_type": "code",
   "execution_count": 75,
   "metadata": {},
   "outputs": [],
   "source": [
    "def count_to_type(count):\n",
    "    # Determine whether the function is constant or balanced\n",
    "    # if there are more 0s than 1s, the function is constant\n",
    "    if int(count.get(\"0\", 0)) > int(count.get(\"1\", 0)):\n",
    "        return \"constant\"  # Function is constant\n",
    "    else:\n",
    "        return \"balanced\"  # Function is balanced\n"
   ]
  },
  {
   "cell_type": "markdown",
   "metadata": {},
   "source": [
    "Below is all the diagrams for the 4 circuits and the results of the simulation.\n"
   ]
  },
  {
   "cell_type": "code",
   "execution_count": 83,
   "metadata": {},
   "outputs": [
    {
     "data": {
      "image/png": "[encoded data removed]",
      "text/plain": [
       "<Figure size 705.35x284.278 with 1 Axes>"
      ]
     },
     "metadata": {},
     "output_type": "display_data"
    },
    {
     "data": {
      "image/png": "[encoded data removed]",
      "text/plain": [
       "<Figure size 788.961x284.278 with 1 Axes>"
      ]
     },
     "metadata": {},
     "output_type": "display_data"
    },
    {
     "data": {
      "image/png": "[encoded data removed]",
      "text/plain": [
       "<Figure size 788.961x284.278 with 1 Axes>"
      ]
     },
     "metadata": {},
     "output_type": "display_data"
    },
    {
     "data": {
      "image/png": "[encoded data removed]",
      "text/plain": [
       "<Figure size 872.572x284.278 with 1 Axes>"
      ]
     },
     "metadata": {},
     "output_type": "display_data"
    }
   ],
   "source": [
    "for circuit in circuits:\n",
    "    # Create a figure\n",
    "    fig = plt.figure(circuit.draw(output='mpl'))\n",
    "    # Determine whether the circuit is constant or balanced\n",
    "    state = simulate_deutsch_algorithm(circuit)\n",
    "    count = state.get_counts()\n",
    "\n",
    "    # Add the title to the figure\n",
    "    fig.suptitle(count_to_type(count) + \" \" + str(count))\n",
    "\n",
    "    # Show the figure\n",
    "    plt.show()\n"
   ]
  },
  {
   "cell_type": "markdown",
   "metadata": {},
   "source": [
    "As you can see above the results are perfect which is not realistic to quantum computers.  \n",
    "Next up is the results from a real quantum computer.  \n",
    "Where the results are not perfect.\n"
   ]
  },
  {
   "cell_type": "markdown",
   "metadata": {},
   "source": [
    "## Real Hardware\n"
   ]
  },
  {
   "cell_type": "markdown",
   "metadata": {},
   "source": [
    "Run the simulation on real quantum computers and compare the results. [[3]](#3)\n",
    "\n",
    "The results are not always accurate due to noise and other factors.  \n",
    "This gives a real world usecase of how a quantumn computer would perform.\n",
    "\n",
    "I went with ibm_lagos which has 7 qubits (which is more than enough for the algorithm) and would be the cheapest to run in terms of time usage. [[4]](#4)\n",
    "\n",
    "![Quantum Hardware](imgs/QuantumHardware.png)\n"
   ]
  },
  {
   "cell_type": "markdown",
   "metadata": {},
   "source": [
    "Below the connection to the quantum computer is made and the circuit is sent to the quantum computer to be run.\n"
   ]
  },
  {
   "cell_type": "code",
   "execution_count": 62,
   "metadata": {},
   "outputs": [
    {
     "name": "stdout",
     "output_type": "stream",
     "text": [
      "job id: cna3n8dyzmv0008w8zxg\n"
     ]
    }
   ],
   "source": [
    "from qiskit_ibm_runtime import QiskitRuntimeService, Sampler\n",
    "\n",
    "# Create a runtime program from my saved credentials\n",
    "service = QiskitRuntimeService()\n",
    "backend = service.backend(\"ibm_lagos\")\n",
    "\n",
    "# Run balanced program A on the real quantum system\n",
    "job = Sampler(backend).run(circuits=circuits)\n",
    "print(f\"job id: {job.job_id()}\")\n",
    "quantumResult = job.result()\n"
   ]
  },
  {
   "cell_type": "markdown",
   "metadata": {},
   "source": [
    "Render out the results from the quantum computer.\n"
   ]
  },
  {
   "cell_type": "code",
   "execution_count": 86,
   "metadata": {},
   "outputs": [
    {
     "name": "stdout",
     "output_type": "stream",
     "text": [
      "{0: 1.002514367816092, 1: -0.002514367816092}\n"
     ]
    },
    {
     "data": {
      "image/png": "[encoded data removed]",
      "text/plain": [
       "<Figure size 640x480 with 1 Axes>"
      ]
     },
     "metadata": {},
     "output_type": "display_data"
    },
    {
     "name": "stdout",
     "output_type": "stream",
     "text": [
      "{0: 0.017104039891819, 1: 0.982895960108181}\n"
     ]
    },
    {
     "data": {
      "image/png": "[encoded data removed]",
      "text/plain": [
       "<Figure size 640x480 with 1 Axes>"
      ]
     },
     "metadata": {},
     "output_type": "display_data"
    }
   ],
   "source": [
    "for data in quantumResult.quasi_dists:\n",
    "    bar = plt.bar([0, 1], list(data.values()), align='center')\n",
    "    print(data)\n",
    "    plt.show()\n"
   ]
  },
  {
   "cell_type": "markdown",
   "metadata": {},
   "source": [
    "### Jobs\n",
    "\n",
    "Here are the jobs that were run on the quantum computer.  \n",
    "I first ran them on the simulator to get the results and make sure it works before running on real quantum computers.\n",
    "\n",
    "![Alt text](imgs/QuantumJobs.png)\n"
   ]
  },
  {
   "cell_type": "markdown",
   "metadata": {},
   "source": [
    "## References\n",
    "\n",
    "- <a id=\"1\">[1]:</a> Input table reference https://anonymousket.medium.com/quantum-algo-deutsch-algorithm-ccc119c69c08#b0aa\n",
    "- <a id=\"2\">[2]:</a> Circuit diagram reference https://i.ytimg.com/vi/7MdEHsRZxvo/maxresdefault.jpg\n",
    "- <a id=\"3\">[3]:</a> How to setup account and token for real hardware https://docs.quantum-computing.ibm.com/run\n",
    "- <a id=\"4\">[4]:</a> How to run on real hardware https://qiskit.org/ecosystem/ibm-runtime/how_to/backends.html\n"
   ]
  }
 ],
 "metadata": {
  "kernelspec": {
   "display_name": "Python 3",
   "language": "python",
   "name": "python3"
  },
  "language_info": {
   "codemirror_mode": {
    "name": "ipython",
    "version": 3
   },
   "file_extension": ".py",
   "mimetype": "text/x-python",
   "name": "python",
   "nbconvert_exporter": "python",
   "pygments_lexer": "ipython3",
   "version": "3.11.6"
  },
  "orig_nbformat": 4
 },
 "nbformat": 4,
 "nbformat_minor": 2
}
