{
 "cells": [
  {
   "cell_type": "markdown",
   "metadata": {},
   "source": [
    "# Task 1\n",
    "\n",
    "The Collatz conjecture can be calculated very easily with recusive code. Below I implemented it for the numbers from 1 - 10,000 returning when it gets to 1 as that would loop forever.\n",
    "\n",
    "The Collatz conjecture is a conjecture in mathematics that concerns a sequence defined as follows: start with any positive integer n.  \n",
    "Then each term is obtained from the previous term as follows: if the previous term is even, the next term is one half of the previous term.  \n",
    "If the previous term is odd, the next term is 3 times the previous term plus 1.  \n",
    "The conjecture is that no matter what value of n, the sequence will always reach 1."
   ]
  },
  {
   "cell_type": "code",
   "execution_count": 2,
   "metadata": {},
   "outputs": [
    {
     "name": "stdout",
     "output_type": "stream",
     "text": [
      "Found loop for 1\n",
      "Found loop for 2\n",
      "Found loop for 3\n",
      "Found loop for 4\n",
      "Found loop for 5\n",
      "Found loop for 6\n",
      "Found loop for 7\n",
      "Found loop for 8\n",
      "Found loop for 9\n",
      "Found loop for 10\n",
      "Found loop for 11\n",
      "Found loop for 12\n",
      "Found loop for 13\n",
      "Found loop for 14\n",
      "Found loop for 15\n",
      "Found loop for 16\n",
      "Found loop for 17\n",
      "Found loop for 18\n",
      "Found loop for 19\n",
      "Found loop for 20\n",
      "Found loop for 21\n",
      "Found loop for 22\n",
      "Found loop for 23\n",
      "Found loop for 24\n",
      "Found loop for 25\n",
      "Found loop for 26\n",
      "Found loop for 27\n",
      "Found loop for 28\n",
      "Found loop for 29\n"
     ]
    }
   ],
   "source": [
    "def collatz(x, initValue):\n",
    "    if x % 2 == 0:\n",
    "        x = x / 2\n",
    "    else:\n",
    "        x = (3 * x) + 1\n",
    "\n",
    "    if x == 1:\n",
    "        print(\"Found loop for\", initValue)\n",
    "        return\n",
    "\n",
    "    collatz(x, initValue)\n",
    "\n",
    "\n",
    "for x in range(1, 30):\n",
    "    collatz(x, x)\n"
   ]
  },
  {
   "cell_type": "markdown",
   "metadata": {},
   "source": [
    "# Task 2\n",
    "\n",
    "Newtons method is an approximation for curves that gets increasingly closer to the target value.\n",
    "The value gets continuously improved upon.\n",
    "\n",
    "z is the guess, x is the original value and next is the next value that gets iterated on.\n",
    "\n",
    "Newton's method is an iterative method for finding the roots of a differentiable function f, which are solutions to the equation in the form of \n",
    "\n",
    "$f(x) = 0$"
   ]
  },
  {
   "cell_type": "code",
   "execution_count": 4,
   "metadata": {},
   "outputs": [
    {
     "name": "stdout",
     "output_type": "stream",
     "text": [
      "sqrt(2) = 1.4142156862745099\n",
      "sqrt(4) = 2.0\n",
      "sqrt(64) = 8.000001273385879\n",
      "sqrt(38475) = 196.15045245933032\n"
     ]
    }
   ],
   "source": [
    "precision = 0.01\n",
    "\n",
    "\n",
    "def newton(z, x):\n",
    "    next = z - ((z * z - x) / (2 * z))\n",
    "\n",
    "    if abs(next - z) < precision:\n",
    "        return next\n",
    "\n",
    "    return newton(next, x)\n",
    "\n",
    "\n",
    "def sqrt(x):\n",
    "    return newton(x / 2, x)\n",
    "\n",
    "\n",
    "print(\"sqrt(2) =\", sqrt(2))\n",
    "print(\"sqrt(4) =\", sqrt(4))\n",
    "print(\"sqrt(64) =\", sqrt(64))\n",
    "print(\"sqrt(38475) =\", sqrt(38475))\n"
   ]
  },
  {
   "cell_type": "markdown",
   "metadata": {},
   "source": [
    "# Task 3\n",
    "\n",
    "Determine the number of inputs that can make up a single bit from 4 bits as the input.\n",
    "\n",
    "xxxx => x where x = 0 or 1\n",
    "\n",
    "2^4 inputs map to an output\n",
    "\n",
    "Internals for how f generates don't matter so i used a sudo random number generator to generate the output.\n"
   ]
  },
  {
   "cell_type": "code",
   "execution_count": 11,
   "metadata": {},
   "outputs": [],
   "source": [
    "import random\n",
    "\n",
    "MAX_FOUR_BIT_SIZE = 16\n",
    "\n",
    "seed = random.randint(0, 10000)\n"
   ]
  },
  {
   "cell_type": "code",
   "execution_count": 12,
   "metadata": {},
   "outputs": [
    {
     "name": "stdout",
     "output_type": "stream",
     "text": [
      "0b0 \t-> 1\n",
      "0b1 \t-> 0\n",
      "0b10 \t-> 1\n",
      "0b11 \t-> 0\n",
      "0b100 \t-> 1\n",
      "0b101 \t-> 0\n",
      "0b110 \t-> 0\n",
      "0b111 \t-> 0\n",
      "0b1000 \t-> 1\n",
      "0b1001 \t-> 1\n",
      "0b1010 \t-> 1\n",
      "0b1011 \t-> 0\n",
      "0b1100 \t-> 0\n",
      "0b1101 \t-> 0\n",
      "0b1110 \t-> 0\n",
      "0b1111 \t-> 1\n"
     ]
    }
   ],
   "source": [
    "def f(i):\n",
    "    # seed the random so that its always the same for each value\n",
    "    random.seed(seed + i)\n",
    "    return random.randint(0, 1)\n",
    "\n",
    "\n",
    "for r in range(MAX_FOUR_BIT_SIZE):\n",
    "    v = f(r)\n",
    "    print(bin(r), \"\\t->\", v)\n"
   ]
  },
  {
   "cell_type": "markdown",
   "metadata": {},
   "source": [
    "# Task 4\n",
    "\n",
    "I implemented a matrix multiplication algorithm without numpy\n",
    "\n",
    "The algorithm takes two matrices and multiplies them together. The matrices must be of equal dimensions width as height from a to b.  \n",
    "The algorithm works by iterating over the rows of the first matrix and the columns of the second matrix.  \n",
    "The algorithm then iterates over the columns of the first matrix and the rows of the second matrix.  \n",
    "The algorithm then multiplies the values of the first matrix with the second matrix and adds them to the result matrix.  \n"
   ]
  },
  {
   "cell_type": "code",
   "execution_count": 13,
   "metadata": {},
   "outputs": [
    {
     "name": "stdout",
     "output_type": "stream",
     "text": [
      "0 1 7 7\n",
      "0 2 7 14\n",
      "0 3 7 21\n",
      "\n",
      "42 1 8 8\n",
      "8 2 8 16\n",
      "0 3 8 24\n",
      "\n",
      "42 1 9 9\n",
      "48 2 9 18\n",
      "27 3 9 27\n",
      "\n",
      "\n",
      "0 4 7 28\n",
      "0 5 7 35\n",
      "0 6 7 42\n",
      "\n",
      "105 4 8 32\n",
      "32 5 8 40\n",
      "0 6 8 48\n",
      "\n",
      "105 4 9 36\n",
      "120 5 9 45\n",
      "81 6 9 54\n",
      "\n",
      "\n"
     ]
    },
    {
     "data": {
      "text/plain": [
       "[[42, 48, 54], [105, 120, 135]]"
      ]
     },
     "execution_count": 13,
     "metadata": {},
     "output_type": "execute_result"
    }
   ],
   "source": [
    "mat1 = [\n",
    "    [1, 2, 3],\n",
    "    [4, 5, 6],\n",
    "]\n",
    "\n",
    "mat2 = [\n",
    "    [7, 8, 9],\n",
    "    [7, 8, 9],\n",
    "    [7, 8, 9],\n",
    "]\n",
    "\n",
    "res = []\n",
    "\n",
    "\n",
    "def mat_mul(a, b):\n",
    "    \"\"\"\n",
    "    a and b must have equal dimensions width as height from a to b\n",
    "    \"\"\"\n",
    "\n",
    "    res = []\n",
    "    # copy shape of a\n",
    "    for i in range(len(a)):\n",
    "        res.append([])\n",
    "        res[i] = [0] * len(a[0])\n",
    "\n",
    "    for r in range(len(a)):\n",
    "        for d in range(len(b)):\n",
    "            for c in range(len(b)):\n",
    "                print(res[r][c], a[r][c], b[c][d], a[r][c] * b[c][d])\n",
    "                res[r][d] += a[r][c] * b[c][d]\n",
    "            print()\n",
    "        print()\n",
    "    return res\n",
    "\n",
    "\n",
    "mat_mul(mat1, mat2)\n"
   ]
  }
 ],
 "metadata": {
  "kernelspec": {
   "display_name": "Python 3",
   "language": "python",
   "name": "python3"
  },
  "language_info": {
   "codemirror_mode": {
    "name": "ipython",
    "version": 3
   },
   "file_extension": ".py",
   "mimetype": "text/x-python",
   "name": "python",
   "nbconvert_exporter": "python",
   "pygments_lexer": "ipython3",
   "version": "3.11.6"
  },
  "orig_nbformat": 4
 },
 "nbformat": 4,
 "nbformat_minor": 2
}
